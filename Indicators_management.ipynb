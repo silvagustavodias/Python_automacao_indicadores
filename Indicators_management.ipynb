{
 "cells": [
  {
   "cell_type": "code",
   "execution_count": 4,
   "id": "c656ec9f",
   "metadata": {},
   "outputs": [],
   "source": [
    "#Libs\n",
    "import pandas as pd\n",
    "import os\n",
    "from pathlib import Path\n"
   ]
  },
  {
   "cell_type": "code",
   "execution_count": null,
   "id": "8d8694d2",
   "metadata": {},
   "outputs": [],
   "source": [
    "#Import DataBase\n",
    "emails = pd.read_excel(r'Bases de Dados\\Emails.xlsx')\n",
    "stores = pd.read_csv(r'Bases de Dados\\Lojas.csv', sep=';', encoding='latin1')\n",
    "sells = pd.read_excel(r'Bases de Dados\\Vendas.xlsx')\n",
    "display(emails)\n",
    "display(stores)\n",
    "display(sells)"
   ]
  }
 ],
 "metadata": {
  "kernelspec": {
   "display_name": "Python 3 (ipykernel)",
   "language": "python",
   "name": "python3"
  },
  "language_info": {
   "codemirror_mode": {
    "name": "ipython",
    "version": 3
   },
   "file_extension": ".py",
   "mimetype": "text/x-python",
   "name": "python",
   "nbconvert_exporter": "python",
   "pygments_lexer": "ipython3",
   "version": "3.9.7"
  }
 },
 "nbformat": 4,
 "nbformat_minor": 5
}
